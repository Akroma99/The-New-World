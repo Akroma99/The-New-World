{
 "cells": [
  {
   "cell_type": "code",
   "execution_count": null,
   "id": "8a2e3394-13d7-4716-a75b-f60d4255ea05",
   "metadata": {},
   "outputs": [],
   "source": [
    "## Welcome to the beautiful program. "
   ]
  },
  {
   "cell_type": "code",
   "execution_count": null,
   "id": "57f1a676-c1c7-4ede-88d0-b73bb7a1f7b6",
   "metadata": {},
   "outputs": [],
   "source": [
    "## Welcome to the beautiful program. \n",
    "\n",
    "question = input(\"What is your favorite Mythical Creature?\") \n",
    "\n",
    "print(\"Wow your favorite mythical creature is \" + question)\n",
    "\n",
    "question2 = input(\"How much wood could your Mythical creature chuck if a Mythical creature could chuck wood?\")\n",
    "\n",
    "print(question  +  \" could chuck \" + question2 + \" pieces of wood.\")\n",
    "\n",
    "question3 = input(\"Where is your Mythical creature chucking wood?\")\n",
    "\n",
    "print(question  +  \" could chuck \" + question2 + \" pieces of wood \" + \"in \" + question3 + \".\") \n",
    "\n",
    "\n",
    "\n",
    "\n",
    "\n",
    "\n"
   ]
  },
  {
   "cell_type": "code",
   "execution_count": null,
   "id": "ef5f8be4-5259-404d-bd43-53fb341d892b",
   "metadata": {},
   "outputs": [],
   "source": []
  }
 ],
 "metadata": {
  "kernelspec": {
   "display_name": "Python 3 (ipykernel)",
   "language": "python",
   "name": "python3"
  },
  "language_info": {
   "codemirror_mode": {
    "name": "ipython",
    "version": 3
   },
   "file_extension": ".py",
   "mimetype": "text/x-python",
   "name": "python",
   "nbconvert_exporter": "python",
   "pygments_lexer": "ipython3",
   "version": "3.12.4"
  }
 },
 "nbformat": 4,
 "nbformat_minor": 5
}
